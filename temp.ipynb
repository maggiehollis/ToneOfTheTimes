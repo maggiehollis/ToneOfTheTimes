{
 "cells": [
  {
   "cell_type": "markdown",
   "id": "3dc727e3",
   "metadata": {},
   "source": [
    "# News Collection\n",
    "Pull today's headline from the NYT API"
   ]
  },
  {
   "cell_type": "code",
   "execution_count": 1,
   "id": "c7d5b2ac",
   "metadata": {},
   "outputs": [
    {
     "name": "stdout",
     "output_type": "stream",
     "text": [
      "Requirement already satisfied: requests in /opt/anaconda3/envs/bigdata2025/lib/python3.11/site-packages (2.32.3)\n",
      "Requirement already satisfied: charset-normalizer<4,>=2 in /opt/anaconda3/envs/bigdata2025/lib/python3.11/site-packages (from requests) (3.4.1)\n",
      "Requirement already satisfied: idna<4,>=2.5 in /opt/anaconda3/envs/bigdata2025/lib/python3.11/site-packages (from requests) (3.10)\n",
      "Requirement already satisfied: urllib3<3,>=1.21.1 in /opt/anaconda3/envs/bigdata2025/lib/python3.11/site-packages (from requests) (2.3.0)\n",
      "Requirement already satisfied: certifi>=2017.4.17 in /opt/anaconda3/envs/bigdata2025/lib/python3.11/site-packages (from requests) (2024.12.14)\n"
     ]
    }
   ],
   "source": [
    "! pip install requests"
   ]
  },
  {
   "cell_type": "code",
   "execution_count": null,
   "id": "f315a7be",
   "metadata": {},
   "outputs": [
    {
     "name": "stdout",
     "output_type": "stream",
     "text": [
      "Title: Francis’ Death Silences a Voice for the Voiceless\n",
      "\n",
      "Abstract: As democratic values and alliances were being turned upside down, the pope was a consistent moral guidepost. Who can play that role now?\n",
      "\n"
     ]
    }
   ],
   "source": [
    "import requests\n",
    "\n",
    "# Replace with your actual NYT API key\n",
    "API_KEY = 'yp31hTcsHNjRBY98C8l6OsleFf8tRAOr'\n",
    "URL = f'https://api.nytimes.com/svc/topstories/v2/home.json?api-key={API_KEY}'\n",
    "\n",
    "response = requests.get(URL)\n",
    "\n",
    "title = \"\"\n",
    "abstract = \"\"\n",
    "\n",
    "if response.status_code == 200:\n",
    "    data = response.json()\n",
    "    if data['results']:\n",
    "        # Assume the first article is the main front-page article\n",
    "        main_article = data['results'][0]\n",
    "        title = main_article['title']\n",
    "        abstract = main_article['abstract']\n",
    "        \n",
    "        print(f\"Title: {title}\\n\")\n",
    "        print(f\"Abstract: {abstract}\\n\")\n",
    "    else:\n",
    "        print(\"No articles found.\")\n",
    "else:\n",
    "    print(f\"Error: {response.status_code}, {response.text}\")\n"
   ]
  },
  {
   "cell_type": "markdown",
   "id": "5056ed26",
   "metadata": {
    "vscode": {
     "languageId": "plaintext"
    }
   },
   "source": [
    "# NLP Analysis\n",
    "Calculate sentiment of news articles"
   ]
  },
  {
   "cell_type": "code",
   "execution_count": 11,
   "id": "f642e9a3",
   "metadata": {},
   "outputs": [
    {
     "name": "stdout",
     "output_type": "stream",
     "text": [
      "Requirement already satisfied: nltk in /opt/anaconda3/envs/bigdata2025/lib/python3.11/site-packages (3.9.1)\n",
      "Requirement already satisfied: click in /opt/anaconda3/envs/bigdata2025/lib/python3.11/site-packages (from nltk) (8.1.8)\n",
      "Requirement already satisfied: joblib in /opt/anaconda3/envs/bigdata2025/lib/python3.11/site-packages (from nltk) (1.4.2)\n",
      "Requirement already satisfied: regex>=2021.8.3 in /opt/anaconda3/envs/bigdata2025/lib/python3.11/site-packages (from nltk) (2024.11.6)\n",
      "Requirement already satisfied: tqdm in /opt/anaconda3/envs/bigdata2025/lib/python3.11/site-packages (from nltk) (4.67.1)\n"
     ]
    }
   ],
   "source": [
    "! pip install nltk"
   ]
  },
  {
   "cell_type": "code",
   "execution_count": 14,
   "id": "05b49a37",
   "metadata": {},
   "outputs": [
    {
     "name": "stdout",
     "output_type": "stream",
     "text": [
      "{'neg': 0.111, 'neu': 0.743, 'pos': 0.146, 'compound': 0.0516}\n"
     ]
    },
    {
     "name": "stderr",
     "output_type": "stream",
     "text": [
      "[nltk_data] Downloading package vader_lexicon to\n",
      "[nltk_data]     /Users/maggiehollis/nltk_data...\n",
      "[nltk_data]   Package vader_lexicon is already up-to-date!\n"
     ]
    }
   ],
   "source": [
    "import nltk\n",
    "from nltk.tokenize import word_tokenize\n",
    "from nltk.corpus import stopwords\n",
    "from nltk.sentiment.vader import SentimentIntensityAnalyzer\n",
    "nltk.download('vader_lexicon')\n",
    "\n",
    "stop_words = set(stopwords.words(\"english\"))\n",
    "tokenized = word_tokenize(title + \" \" + abstract)\n",
    "text = [word.lower() for word in tokenized if word.isalnum() and word.lower() not in stop_words]\n",
    "\n",
    "sentiment_analyzer = SentimentIntensityAnalyzer()\n",
    "\n",
    "sentiment= sentiment_analyzer.polarity_scores(' '.join(tokenized))\n",
    "\n",
    "print(sentiment)"
   ]
  },
  {
   "cell_type": "markdown",
   "id": "08ae3256",
   "metadata": {
    "vscode": {
     "languageId": "plaintext"
    }
   },
   "source": [
    "# Mood Mapping\n",
    "Convert sentiment scores to audio features"
   ]
  },
  {
   "cell_type": "code",
   "execution_count": 22,
   "id": "9d6024fb",
   "metadata": {},
   "outputs": [
    {
     "name": "stdout",
     "output_type": "stream",
     "text": [
      "Mood: happy\n"
     ]
    }
   ],
   "source": [
    "# def sentiment_to_audio_features(compound):\n",
    "#     if compound <= -0.5:\n",
    "#         valence = 0.1\n",
    "#         energy = 0.2\n",
    "#         tempo = 70\n",
    "#         acousticness = 0.9\n",
    "#     elif compound <= 0:\n",
    "#         valence = 0.3\n",
    "#         energy = 0.4\n",
    "#         tempo = 90\n",
    "#         acousticness = 0.7\n",
    "#     elif compound <= 0.5:\n",
    "#         valence = 0.6\n",
    "#         energy = 0.6\n",
    "#         tempo = 110\n",
    "#         acousticness = 0.4\n",
    "#     else:\n",
    "#         valence = 0.9\n",
    "#         energy = 0.8\n",
    "#         tempo = 130\n",
    "#         acousticness = 0.2\n",
    "#     return {'valence': valence, 'energy': energy, 'tempo': tempo, 'acousticness': acousticness}\n",
    "\n",
    "# features = sentiment_to_audio_features(sentiment['compound'])\n",
    "# print(features)\n",
    "def sentiment_to_mood(compound):\n",
    "    if compound <= -0.5:\n",
    "        return \"sad\"\n",
    "    elif compound <= 0.0:\n",
    "        return \"calm\"\n",
    "    elif compound <= 0.5:\n",
    "        return \"happy\"\n",
    "    else:\n",
    "        return \"energetic\"\n",
    "\n",
    "mood = sentiment_to_mood(sentiment['compound'])\n",
    "print(f\"Mood: {mood}\")\n",
    "\n"
   ]
  },
  {
   "cell_type": "markdown",
   "id": "b12906a5",
   "metadata": {},
   "source": [
    "# Song Recs\n",
    "Search for songs in the spotify API that have audio features we matched with the mood"
   ]
  },
  {
   "cell_type": "code",
   "execution_count": 23,
   "id": "509d5f03",
   "metadata": {},
   "outputs": [
    {
     "name": "stdout",
     "output_type": "stream",
     "text": [
      "Happy Song by Bring Me The Horizon - https://genius.com/Bring-me-the-horizon-happy-song-lyrics\n",
      "Весёлая Песня (Happy Song) by Егор Крид (Egor Kreed) & MORGENSHTERN - https://genius.com/Egor-kreed-and-morgenshtern-happy-song-lyrics\n",
      "The Happy Song by Imogen Heap - https://genius.com/Imogen-heap-the-happy-song-lyrics\n",
      "Счастливая песня (Happy Song) by Markul - https://genius.com/Markul-happy-song-lyrics\n",
      "Life's a Happy Song by Jason Segel (Ft. Amy Adams, Feist, Mickey Rooney & Walter (Muppet)) - https://genius.com/Jason-segel-lifes-a-happy-song-lyrics\n"
     ]
    }
   ],
   "source": [
    "import requests\n",
    "\n",
    "GENIUS_API_TOKEN = 'CATpWX4OIUMhY4HYjWl8QjUBJJTwzRLWKxLS88W50qawiEy2pvtzE5nPaPsXrdPh'\n",
    "headers = {'Authorization': f'Bearer {GENIUS_API_TOKEN}'}\n",
    "\n",
    "search_url = 'https://api.genius.com/search'\n",
    "params = {'q': f'{mood} song'}  # e.g., 'happy song'\n",
    "\n",
    "response = requests.get(search_url, headers=headers, params=params)\n",
    "data = response.json()\n",
    "\n",
    "for hit in data['response']['hits'][:5]:\n",
    "    song = hit['result']\n",
    "    print(f\"{song['full_title']} - {song['url']}\")\n"
   ]
  },
  {
   "cell_type": "markdown",
   "id": "8cc567e4",
   "metadata": {},
   "source": []
  }
 ],
 "metadata": {
  "kernelspec": {
   "display_name": "bigdata2025",
   "language": "python",
   "name": "python3"
  },
  "language_info": {
   "codemirror_mode": {
    "name": "ipython",
    "version": 3
   },
   "file_extension": ".py",
   "mimetype": "text/x-python",
   "name": "python",
   "nbconvert_exporter": "python",
   "pygments_lexer": "ipython3",
   "version": "3.11.11"
  }
 },
 "nbformat": 4,
 "nbformat_minor": 5
}
